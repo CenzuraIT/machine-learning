{
  "nbformat": 4,
  "nbformat_minor": 0,
  "metadata": {
    "colab": {
      "provenance": [],
      "include_colab_link": true
    },
    "kernelspec": {
      "name": "python3",
      "display_name": "Python 3"
    },
    "language_info": {
      "name": "python"
    }
  },
  "cells": [
    {
      "cell_type": "markdown",
      "metadata": {
        "id": "view-in-github",
        "colab_type": "text"
      },
      "source": [
        "<a href=\"https://colab.research.google.com/github/CenzuraIT/machine-learning/blob/main/preprocessing.ipynb\" target=\"_parent\"><img src=\"https://colab.research.google.com/assets/colab-badge.svg\" alt=\"Open In Colab\"/></a>"
      ]
    },
    {
      "cell_type": "code",
      "source": [
        "print('Hello Sławek')"
      ],
      "metadata": {
        "colab": {
          "base_uri": "https://localhost:8080/"
        },
        "id": "-VkiWWV9RZf9",
        "outputId": "ac2a01ff-cb3a-47a0-cb62-9054c19cdadc"
      },
      "execution_count": null,
      "outputs": [
        {
          "output_type": "stream",
          "name": "stdout",
          "text": [
            "Hello Sławek\n"
          ]
        }
      ]
    },
    {
      "cell_type": "markdown",
      "source": [],
      "metadata": {
        "id": "pSLzzRb5dTuV"
      }
    },
    {
      "cell_type": "code",
      "source": [],
      "metadata": {
        "id": "apy73RthTVDe"
      },
      "execution_count": null,
      "outputs": []
    },
    {
      "cell_type": "code",
      "source": [
        "###Preprocessing danych:\n",
        "1. [Import bibliotek] (#0)\n",
        "\n",
        "###<a name=\"0\"></a>Import bibliotek\n",
        "\n",
        "\n"
      ],
      "metadata": {
        "id": "txI8szhTTvC-",
        "colab": {
          "base_uri": "https://localhost:8080/",
          "height": 106
        },
        "outputId": "d91c6441-a954-436e-e003-692adffb2e53"
      },
      "execution_count": 3,
      "outputs": [
        {
          "output_type": "error",
          "ename": "SyntaxError",
          "evalue": "invalid syntax. Perhaps you forgot a comma? (ipython-input-1819162387.py, line 2)",
          "traceback": [
            "\u001b[0;36m  File \u001b[0;32m\"/tmp/ipython-input-1819162387.py\"\u001b[0;36m, line \u001b[0;32m2\u001b[0m\n\u001b[0;31m    1. [Import bibliotek] (#0)\u001b[0m\n\u001b[0m        ^\u001b[0m\n\u001b[0;31mSyntaxError\u001b[0m\u001b[0;31m:\u001b[0m invalid syntax. Perhaps you forgot a comma?\n"
          ]
        }
      ]
    },
    {
      "cell_type": "markdown",
      "source": [
        "## Tekst"
      ],
      "metadata": {
        "id": "92YlxRCcTrlL"
      }
    },
    {
      "cell_type": "markdown",
      "metadata": {
        "id": "8e24549d"
      },
      "source": [
        "###Preprocessing danych:\n",
        "1. [Import bibliotek] (#0)\n",
        "2.[Wygenerowanie danych] (#1)\n",
        "###<a name=\"0\"></a>Import bibliotek"
      ]
    }
  ]
}