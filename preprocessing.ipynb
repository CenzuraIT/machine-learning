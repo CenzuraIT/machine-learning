{
  "nbformat": 4,
  "nbformat_minor": 0,
  "metadata": {
    "colab": {
      "provenance": [],
      "include_colab_link": true
    },
    "kernelspec": {
      "name": "python3",
      "display_name": "Python 3"
    },
    "language_info": {
      "name": "python"
    }
  },
  "cells": [
    {
      "cell_type": "markdown",
      "metadata": {
        "id": "view-in-github",
        "colab_type": "text"
      },
      "source": [
        "<a href=\"https://colab.research.google.com/github/CenzuraIT/machine-learning/blob/main/preprocessing.ipynb\" target=\"_parent\"><img src=\"https://colab.research.google.com/assets/colab-badge.svg\" alt=\"Open In Colab\"/></a>"
      ]
    },
    {
      "cell_type": "markdown",
      "source": [
        "### scikit-learn\n",
        "Strona biblioteki: [https://scikit-learn.org](https://scikit-learn.org)  \n",
        "\n",
        "Dokumentacja/User Guide: [https://scikit-learn.org/stable/user_guide.html](https://scikit-learn.org/stable/user_guide.html)\n",
        "\n",
        "Podstawowa biblioteka do uczenia maszynowego w języku Python.\n",
        "\n",
        "Aby zainstalować bibliotekę scikit-learn, użyj polecenia poniżej:\n",
        "```\n",
        "!pip install scikit-learn\n",
        "```\n",
        "Aby zaktualizować do najnowszej wersji bibliotekę scikit-learn, użyj polecenia poniżej:\n",
        "```\n",
        "!pip install --upgrade scikit-learn\n",
        "```"
      ],
      "metadata": {
        "id": "pSLzzRb5dTuV"
      }
    },
    {
      "cell_type": "markdown",
      "source": [],
      "metadata": {
        "id": "M_P0JKqyfi11"
      }
    },
    {
      "cell_type": "markdown",
      "metadata": {
        "id": "8e24549d"
      },
      "source": [
        "###Preprocessing danych:\n",
        "1. [Import bibliotek] (#0)\n",
        "2.[Wygenerowanie danych] (#1)\n",
        "###<a name=\"0\"></a>Import bibliotek"
      ]
    },
    {
      "cell_type": "markdown",
      "source": [
        "### Preprocessing danych :\n",
        "1. [Import bibliotek](#0)\n",
        "2. [Wygenerowanie danych](#1)"
      ],
      "metadata": {
        "id": "bGThLPZpgSyZ"
      }
    }
  ]
}